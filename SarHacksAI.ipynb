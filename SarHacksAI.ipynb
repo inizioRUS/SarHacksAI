{
 "nbformat": 4,
 "nbformat_minor": 0,
 "metadata": {
  "colab": {
   "provenance": [],
   "authorship_tag": "ABX9TyOpFzF6Ylb4tXip0/SFKst2"
  },
  "kernelspec": {
   "name": "python3",
   "display_name": "Python 3"
  },
  "language_info": {
   "name": "python"
  },
  "accelerator": "GPU"
 },
 "cells": [
  {
   "cell_type": "markdown",
   "source": [
    "# Инициализация"
   ],
   "metadata": {
    "id": "BRshB1WEm-3z"
   }
  },
  {
   "cell_type": "code",
   "execution_count": null,
   "metadata": {
    "id": "IkJhF1MdXsvJ"
   },
   "outputs": [],
   "source": [
    "from google.colab import drive\n",
    "drive.mount('/content/drive')"
   ]
  },
  {
   "cell_type": "code",
   "source": [
    "!pip install -q transformers sentencepiece sentence-transformers catboost simpletransformers"
   ],
   "metadata": {
    "id": "lsx8AcHnbGgp"
   },
   "execution_count": null,
   "outputs": []
  },
  {
   "cell_type": "code",
   "source": [
    "import pandas as pd\n",
    "\n",
    "import torch\n",
    "import transformers\n",
    "from torch.utils.data import Dataset, DataLoader\n",
    "from torch import cuda\n",
    "from tokenizers import BertWordPieceTokenizer\n",
    "from transformers import AutoModel, AutoTokenizer\n",
    "\n",
    "from tqdm import tqdm\n",
    "\n",
    "import warnings\n",
    "warnings.filterwarnings('ignore')"
   ],
   "metadata": {
    "id": "FuB-ef9SbJ2z",
    "executionInfo": {
     "status": "ok",
     "timestamp": 1663908410170,
     "user_tz": -240,
     "elapsed": 1135,
     "user": {
      "displayName": "DiMa GaRaNiN",
      "userId": "07324131704526763541"
     }
    }
   },
   "execution_count": 3,
   "outputs": []
  },
  {
   "cell_type": "markdown",
   "source": [
    "# Обучение"
   ],
   "metadata": {
    "id": "zfPBeUnXnAEm"
   }
  },
  {
   "cell_type": "code",
   "source": [
    "df = pd.read_csv(\"/content/drive/MyDrive/Sar_hacks_ai/train_dataset_train_new.csv\").drop(columns=['id'])"
   ],
   "metadata": {
    "id": "ncbZH3v9bKa7",
    "executionInfo": {
     "status": "ok",
     "timestamp": 1663908411441,
     "user_tz": -240,
     "elapsed": 1276,
     "user": {
      "displayName": "DiMa GaRaNiN",
      "userId": "07324131704526763541"
     }
    }
   },
   "execution_count": 4,
   "outputs": []
  },
  {
   "cell_type": "code",
   "source": [
    "tokenizer = AutoTokenizer.from_pretrained('MoritzLaurer/mDeBERTa-v3-base-mnli-xnli')\n",
    "MAX_LEN = 256 \n",
    "TRAIN_BATCH_SIZE = 16\n",
    "VALID_BATCH_SIZE = 16\n",
    "EPOCHS = 3\n",
    "LEARNING_RATE = 1e-05"
   ],
   "metadata": {
    "id": "mH9daGQybNB0",
    "executionInfo": {
     "status": "ok",
     "timestamp": 1663908413699,
     "user_tz": -240,
     "elapsed": 2262,
     "user": {
      "displayName": "DiMa GaRaNiN",
      "userId": "07324131704526763541"
     }
    }
   },
   "execution_count": 5,
   "outputs": []
  },
  {
   "cell_type": "code",
   "source": [
    "class Triage(Dataset):\n",
    "    '''Даталоадер'''\n",
    "    def __init__(self, dataframe, tokenizer, max_len):\n",
    "        self.len = len(dataframe)\n",
    "        self.data = dataframe\n",
    "        self.tokenizer = tokenizer\n",
    "        self.max_len = max_len\n",
    "        \n",
    "    def __getitem__(self, index):\n",
    "        title = str(self.data.name[index])\n",
    "        title = \" \".join(title.split())\n",
    "        inputs = self.tokenizer.encode_plus(\n",
    "            title,\n",
    "            None,\n",
    "            add_special_tokens=True,\n",
    "            max_length=self.max_len,\n",
    "            pad_to_max_length=True,\n",
    "            return_token_type_ids=True,\n",
    "            truncation=True\n",
    "        )\n",
    "        ids = inputs['input_ids']\n",
    "        mask = inputs['attention_mask']\n",
    "\n",
    "        return {\n",
    "            'ids': torch.tensor(ids, dtype=torch.long),\n",
    "            'mask': torch.tensor(mask, dtype=torch.long),\n",
    "            'targets': torch.tensor(self.data.groups[index], dtype=torch.long)\n",
    "        } \n",
    "    \n",
    "    def __len__(self):\n",
    "        return self.len"
   ],
   "metadata": {
    "id": "2mpC6j-cbQnu",
    "executionInfo": {
     "status": "ok",
     "timestamp": 1663908413700,
     "user_tz": -240,
     "elapsed": 4,
     "user": {
      "displayName": "DiMa GaRaNiN",
      "userId": "07324131704526763541"
     }
    }
   },
   "execution_count": 6,
   "outputs": []
  },
  {
   "cell_type": "code",
   "source": [
    "train_size = 1\n",
    "train_dataset=df.sample(frac=train_size,random_state=200).reset_index(drop=True)\n",
    "\n",
    "training_set = Triage(train_dataset, tokenizer, MAX_LEN)"
   ],
   "metadata": {
    "id": "IyvOLtTcbUJZ",
    "executionInfo": {
     "status": "ok",
     "timestamp": 1663908287497,
     "user_tz": -240,
     "elapsed": 286,
     "user": {
      "displayName": "DiMa GaRaNiN",
      "userId": "07324131704526763541"
     }
    }
   },
   "execution_count": 7,
   "outputs": []
  },
  {
   "cell_type": "code",
   "source": [
    "train_params = {'batch_size': TRAIN_BATCH_SIZE,\n",
    "                'shuffle': False,\n",
    "                'num_workers': 0\n",
    "                }\n",
    "\n",
    "training_loader = DataLoader(training_set, **train_params)"
   ],
   "metadata": {
    "id": "Zwp5sgqcbb_N",
    "executionInfo": {
     "status": "ok",
     "timestamp": 1663908288630,
     "user_tz": -240,
     "elapsed": 3,
     "user": {
      "displayName": "DiMa GaRaNiN",
      "userId": "07324131704526763541"
     }
    }
   },
   "execution_count": 8,
   "outputs": []
  },
  {
   "cell_type": "code",
   "source": [
    "def calcuate_accu(big_idx, targets):\n",
    "    n_correct = (big_idx==targets).sum().item()\n",
    "    return n_correct"
   ],
   "metadata": {
    "id": "fRPuTspSbfBf",
    "executionInfo": {
     "status": "ok",
     "timestamp": 1663908289622,
     "user_tz": -240,
     "elapsed": 3,
     "user": {
      "displayName": "DiMa GaRaNiN",
      "userId": "07324131704526763541"
     }
    }
   },
   "execution_count": 9,
   "outputs": []
  },
  {
   "cell_type": "code",
   "source": [
    "def train(epoch):\n",
    "    tr_loss = 0\n",
    "    n_correct = 0\n",
    "    nb_tr_steps = 0\n",
    "    nb_tr_examples = 0\n",
    "    model.train()\n",
    "    for _,data in tqdm(enumerate(training_loader, 0)):\n",
    "        ids = data['ids'].to(device, dtype = torch.long)\n",
    "        mask = data['mask'].to(device, dtype = torch.long)\n",
    "        targets = data['targets'].to(device, dtype = torch.long)\n",
    "\n",
    "        outputs = model(ids, mask)\n",
    "        loss = loss_function(outputs, targets)\n",
    "        tr_loss += loss.item()\n",
    "        big_val, big_idx = torch.max(outputs.data, dim=1)\n",
    "        n_correct += calcuate_accu(big_idx, targets)\n",
    "\n",
    "        nb_tr_steps += 1\n",
    "        nb_tr_examples+=targets.size(0)\n",
    "        \n",
    "        if _%100==0:\n",
    "            loss_step = tr_loss/nb_tr_steps\n",
    "            accu_step = (n_correct*100)/nb_tr_examples \n",
    "            print(f\"Training Loss per 100 steps: {loss_step}\")\n",
    "            print(f\"Training Accuracy per 100 steps: {accu_step}\")\n",
    "\n",
    "    print(f'The Total Accuracy for Epoch {epoch}: {(n_correct*100)/nb_tr_examples}')\n",
    "    epoch_loss = tr_loss/nb_tr_steps\n",
    "    epoch_accu = (n_correct*100)/nb_tr_examples\n",
    "    print(f\"Training Loss Epoch: {epoch_loss}\")\n",
    "    print(f\"Training Accuracy Epoch: {epoch_accu}\")\n",
    "\n",
    "    return "
   ],
   "metadata": {
    "id": "B-8R3wAEbf5e",
    "executionInfo": {
     "status": "ok",
     "timestamp": 1663908290397,
     "user_tz": -240,
     "elapsed": 3,
     "user": {
      "displayName": "DiMa GaRaNiN",
      "userId": "07324131704526763541"
     }
    }
   },
   "execution_count": 10,
   "outputs": []
  },
  {
   "cell_type": "code",
   "source": [
    "\n",
    "class DeBert(torch.nn.Module):\n",
    "    def __init__(self):\n",
    "        super(DeBert, self).__init__()\n",
    "        self.deberta = AutoModel.from_pretrained('MoritzLaurer/mDeBERTa-v3-base-mnli-xnli')\n",
    "        self.pre_classifier = torch.nn.Linear(768, 768)\n",
    "        self.dropout = torch.nn.Dropout(0.3)\n",
    "        self.classifier = torch.nn.Linear(768, 11)\n",
    "\n",
    "    def forward(self, input_ids, attention_mask):\n",
    "        output_1 = self.deberta(input_ids=input_ids, attention_mask=attention_mask)\n",
    "        hidden_state = output_1[0]\n",
    "        pooler = hidden_state[:, 0]\n",
    "        pooler = self.pre_classifier(pooler)\n",
    "        pooler = torch.nn.ReLU()(pooler)\n",
    "        pooler = self.dropout(pooler)\n",
    "        output = self.classifier(pooler)\n",
    "        return output"
   ],
   "metadata": {
    "id": "Xp55VKpMbjKY",
    "executionInfo": {
     "status": "ok",
     "timestamp": 1663908441737,
     "user_tz": -240,
     "elapsed": 270,
     "user": {
      "displayName": "DiMa GaRaNiN",
      "userId": "07324131704526763541"
     }
    }
   },
   "execution_count": 9,
   "outputs": []
  },
  {
   "cell_type": "code",
   "source": [
    "device = 'cuda' if cuda.is_available() else 'cpu'\n",
    "model = DeBert()\n",
    "model.to(device)"
   ],
   "metadata": {
    "id": "zQ-qrezjbkqZ"
   },
   "execution_count": null,
   "outputs": []
  },
  {
   "cell_type": "code",
   "source": [
    "loss_function = torch.nn.CrossEntropyLoss()\n",
    "optimizer = torch.optim.Adam(params =  model.parameters(), lr=LEARNING_RATE)"
   ],
   "metadata": {
    "id": "T1Hrtqn-bvpY",
    "executionInfo": {
     "status": "ok",
     "timestamp": 1663908365616,
     "user_tz": -240,
     "elapsed": 307,
     "user": {
      "displayName": "DiMa GaRaNiN",
      "userId": "07324131704526763541"
     }
    }
   },
   "execution_count": 13,
   "outputs": []
  },
  {
   "cell_type": "code",
   "source": [
    "for epoch in range (EPOCHS):\n",
    "    train(epoch)"
   ],
   "metadata": {
    "id": "M99CXEO9bweP"
   },
   "execution_count": null,
   "outputs": []
  },
  {
   "cell_type": "code",
   "source": [
    "output_model_file = 'deBert.bin'\n",
    "\n",
    "model_to_save = model\n",
    "\n",
    "torch.save(model_to_save.state_dict())\n",
    "\n",
    "print('Данные сохранены')"
   ],
   "metadata": {
    "id": "b91kmRRLbzfJ"
   },
   "execution_count": null,
   "outputs": []
  },
  {
   "cell_type": "markdown",
   "source": [
    "# Предсказание"
   ],
   "metadata": {
    "id": "s1zuuCEynCeE"
   }
  },
  {
   "cell_type": "code",
   "source": [
    "data = torch.load(\"/content/drive/MyDrive/Sar_hacks_ai/debert.bin\")\n",
    "data['pre_classifier.weight'] = data['pooler.dense.weight']\n",
    "data['pre_classifier.bias'] = data['pooler.dense.bias']\n",
    "del data['pooler.dense.weight'] \n",
    "del data['pooler.dense.bias']"
   ],
   "metadata": {
    "id": "HOaDFO41cXrP",
    "executionInfo": {
     "status": "ok",
     "timestamp": 1663908432655,
     "user_tz": -240,
     "elapsed": 15465,
     "user": {
      "displayName": "DiMa GaRaNiN",
      "userId": "07324131704526763541"
     }
    }
   },
   "execution_count": 7,
   "outputs": []
  },
  {
   "cell_type": "code",
   "source": [
    "device = 'cuda' if cuda.is_available() else 'cpu'\n",
    "model = DeBert()\n",
    "model.load_state_dict(data)\n",
    "model.to(device)"
   ],
   "metadata": {
    "id": "rL2zaEAEcZwf"
   },
   "execution_count": null,
   "outputs": []
  },
  {
   "cell_type": "code",
   "source": [
    "test = pd.read_csv(\"/content/drive/MyDrive/Sar_hacks_ai/test_dataset_test_new.csv\").dropna()\n",
    "test['groups'] = 0\n",
    "test = test.reset_index(drop=True)\n",
    "testing_set = Triage(test, tokenizer, MAX_LEN)\n",
    "test_params = {'batch_size': VALID_BATCH_SIZE,\n",
    "                'shuffle': False,\n",
    "                'num_workers': 0\n",
    "                }\n",
    "testing_loader = DataLoader(testing_set, **test_params)\n"
   ],
   "metadata": {
    "id": "Pd39gHuzcM-5",
    "executionInfo": {
     "status": "ok",
     "timestamp": 1663908471503,
     "user_tz": -240,
     "elapsed": 1639,
     "user": {
      "displayName": "DiMa GaRaNiN",
      "userId": "07324131704526763541"
     }
    }
   },
   "execution_count": 12,
   "outputs": []
  },
  {
   "cell_type": "code",
   "source": [
    "def valid(model, testing_loader):\n",
    "    model.eval()\n",
    "    all_preds = []\n",
    "    with torch.no_grad():\n",
    "        for _, data in tqdm(enumerate(testing_loader, 0)):\n",
    "            ids = data['ids'].to(device, dtype = torch.long)\n",
    "            mask = data['mask'].to(device, dtype = torch.long)\n",
    "            outputs = model(ids, mask).squeeze()\n",
    "            big_val, big_idx = torch.max(outputs.data, dim=1)\n",
    "            all_preds.append(big_idx)\n",
    "    return all_preds"
   ],
   "metadata": {
    "id": "oMcOxHhGcOh_",
    "executionInfo": {
     "status": "ok",
     "timestamp": 1663908474419,
     "user_tz": -240,
     "elapsed": 261,
     "user": {
      "displayName": "DiMa GaRaNiN",
      "userId": "07324131704526763541"
     }
    }
   },
   "execution_count": 13,
   "outputs": []
  },
  {
   "cell_type": "code",
   "source": [
    "all_preds = valid( model, testing_loader)\n",
    "flat_list = [x.tolist() for xs in all_preds for x in xs]"
   ],
   "metadata": {
    "id": "b7JDVFBmcRFx"
   },
   "execution_count": null,
   "outputs": []
  },
  {
   "cell_type": "code",
   "source": [
    "test_dataset = pd.read_csv(\"/content/drive/MyDrive/Sar_hacks_ai/test_dataset_test_new.csv\").dropna()\n",
    "test_dataset = test_dataset[['id']]\n",
    "test_dataset['groups']=flat_list\n",
    "test_dataset.to_csv('sample_solution.csv', index=False)"
   ],
   "metadata": {
    "id": "qWDfw_KfcSEK"
   },
   "execution_count": null,
   "outputs": []
  }
 ]
}
